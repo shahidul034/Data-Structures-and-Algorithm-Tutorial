{
  "nbformat": 4,
  "nbformat_minor": 0,
  "metadata": {
    "colab": {
      "provenance": [],
      "include_colab_link": true
    },
    "kernelspec": {
      "name": "python3",
      "display_name": "Python 3"
    },
    "language_info": {
      "name": "python"
    }
  },
  "cells": [
    {
      "cell_type": "markdown",
      "metadata": {
        "id": "view-in-github",
        "colab_type": "text"
      },
      "source": [
        "<a href=\"https://colab.research.google.com/github/shahidul034/Data-Structures-and-Algorithm-Tutorial/blob/main/Updated__Hidden_Markov_model_for_part_of_speech_tagging.ipynb\" target=\"_parent\"><img src=\"https://colab.research.google.com/assets/colab-badge.svg\" alt=\"Open In Colab\"/></a>"
      ]
    },
    {
      "cell_type": "markdown",
      "source": [
        "**This tutorial is for Part-of-Speech Tagging using the Hidden Markov model.**\n",
        "\n",
        "\n",
        "\n",
        "\n",
        "**Author: Md. Shahidul Salim**\n",
        "\n",
        "  **Lecturer, CSE,KUET**"
      ],
      "metadata": {
        "id": "w99xkxsY9FcZ"
      }
    },
    {
      "cell_type": "markdown",
      "source": [
        "Dataset-WordChat: Tag Frequency Analysis\n",
        "\n",
        "For each tag in the dataset, we calculate its frequency:\n",
        "1. Utilize a random number generator to assign IDs\n",
        "2. Count tag occurrences across all entries\n",
        "3. Record the number of times each unique tag appears\n",
        "\n",
        "This provides a baseline distribution of tags in WordChat for further analysis."
      ],
      "metadata": {
        "id": "JrIaFBbz9Nj1"
      }
    },
    {
      "cell_type": "code",
      "execution_count": null,
      "metadata": {
        "id": "PKcx7ctIt3cV",
        "colab": {
          "base_uri": "https://localhost:8080/"
        },
        "outputId": "680d7da8-6252-4654-ffe3-21139252f7d8"
      },
      "outputs": [
        {
          "output_type": "stream",
          "name": "stdout",
          "text": [
            "No. of VB: 13913\n",
            "No. of MD: 19148\n",
            "No. of NN: 15292\n"
          ]
        }
      ],
      "source": [
        "import random\n",
        "tags=['VB','MD','NN']\n",
        "tag={}\n",
        "for x in tags:\n",
        "  tag[x]=random.randint(10001,20000)\n",
        "  print(f\"No. of {x}: {tag[x]}\")"
      ]
    },
    {
      "cell_type": "markdown",
      "source": [
        "\n",
        "\n",
        "$$\n",
        "p_i[i] \\text{ is the probability that the Markov chain will start in state } i\n",
        "$$"
      ],
      "metadata": {
        "id": "yfrNBSNtBudi"
      }
    },
    {
      "cell_type": "code",
      "source": [
        "pi={}\n",
        "total=1\n",
        "cnt=0\n",
        "while(cnt<len(tags)-1):\n",
        "  val=random.uniform(0,.7)\n",
        "  if (total-val)>0:\n",
        "    pi[tags[cnt]]=val\n",
        "    total-=val\n",
        "    cnt+=1\n",
        "pi[tags[len(tags)-1]]=total\n",
        "for x in tags:\n",
        "  print(f\"Starting probabitity {x}: {pi[x]}\")"
      ],
      "metadata": {
        "id": "A85fcJMrBtvs",
        "colab": {
          "base_uri": "https://localhost:8080/"
        },
        "outputId": "bc0a6763-b722-4a2a-a271-c77f96eb5755"
      },
      "execution_count": null,
      "outputs": [
        {
          "output_type": "stream",
          "name": "stdout",
          "text": [
            "Starting probabitity VB: 0.609159528005516\n",
            "Starting probabitity MD: 0.02576944797097015\n",
            "Starting probabitity NN: 0.3650710240235139\n"
          ]
        }
      ]
    },
    {
      "cell_type": "markdown",
      "source": [
        "$$\\text{Pair}(tag[i], tag[j]) = \\text{count of transitions from } tag[i] \\text{ to } tag[j] \\text{ in dataset}$$"
      ],
      "metadata": {
        "id": "T1jGqeJZGtaF"
      }
    },
    {
      "cell_type": "code",
      "source": [
        "tag_pair={}\n",
        "for x in tags:\n",
        "  for x2 in tags:\n",
        "    val=random.randint(4000,9500)\n",
        "    tag_pair[x+\"-\"+x2]=val\n",
        "    print(f\"{x}-{x2} : {val}\")"
      ],
      "metadata": {
        "colab": {
          "base_uri": "https://localhost:8080/"
        },
        "id": "Bi2i9HiVuNAA",
        "outputId": "423791d2-6514-4a38-ce07-ace3d0c25cb5"
      },
      "execution_count": null,
      "outputs": [
        {
          "output_type": "stream",
          "name": "stdout",
          "text": [
            "VB-VB : 6269\n",
            "VB-MD : 5122\n",
            "VB-NN : 7033\n",
            "MD-VB : 9398\n",
            "MD-MD : 9045\n",
            "MD-NN : 6599\n",
            "NN-VB : 9191\n",
            "NN-MD : 5430\n",
            "NN-NN : 6453\n"
          ]
        }
      ]
    },
    {
      "cell_type": "markdown",
      "source": [
        "**Transition probability(A)**"
      ],
      "metadata": {
        "id": "Jsk_uidE1BEB"
      }
    },
    {
      "cell_type": "markdown",
      "source": [
        "$$P(tag[j]|tag[i]) = \\frac{\\text{count}(tag[i] \\rightarrow tag[j])}{\\text{count}(tag[i])}$$\n",
        "\n",
        "where:\n",
        "- $$\\text{count}(tag[i] \\rightarrow tag[j]) \\text{is the number of times tag[i] is followed by tag[j]}$$\n",
        "- $$\\text{count}(tag[i]) \\text{is the total number of times tag[i] appears}$$\n",
        "\n",
        "![msedge_GirotjgRsU.png](data:image/png;base64,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)"
      ],
      "metadata": {
        "id": "pU6X4OVp9wil"
      }
    },
    {
      "cell_type": "code",
      "source": [
        "transition_prob={}\n",
        "for x in tags:\n",
        "  for x2 in tags:\n",
        "    _pair=x+\"|\"+x2\n",
        "    transition_prob[_pair]=tag_pair[x2+\"-\"+x]/float(tag[x2])\n",
        "    print(f\"p({x}|{x2}):{transition_prob[_pair]}\")\n"
      ],
      "metadata": {
        "colab": {
          "base_uri": "https://localhost:8080/"
        },
        "id": "FwsLohd61Gq_",
        "outputId": "f2f7f853-8931-458c-ede6-9fcb8511eb70"
      },
      "execution_count": null,
      "outputs": [
        {
          "output_type": "stream",
          "name": "stdout",
          "text": [
            "p(VB|VB):0.4505857830805721\n",
            "p(VB|MD):0.49080843952371006\n",
            "p(VB|NN):0.6010332199843055\n",
            "p(MD|VB):0.3681449004528139\n",
            "p(MD|MD):0.4723730937956967\n",
            "p(MD|NN):0.35508762751765627\n",
            "p(NN|VB):0.5054984546826709\n",
            "p(NN|MD):0.3446312930854397\n",
            "p(NN|NN):0.421985351817944\n"
          ]
        }
      ]
    },
    {
      "cell_type": "markdown",
      "source": [
        "**Emission probability(B) for sentence: \"race will begin\"**."
      ],
      "metadata": {
        "id": "3Qp4PNiK2ytc"
      }
    },
    {
      "cell_type": "markdown",
      "source": [
        "$$\\text{Pair}(word, tag) = \\text{count of occurrences where } word \\text{ is labeled with } tag \\text{ in dataset}$$"
      ],
      "metadata": {
        "id": "Vq9u9sBuIyyG"
      }
    },
    {
      "cell_type": "code",
      "source": [
        "sentence=['race','will','begin']\n",
        "tag_word={}\n",
        "for x in tags:\n",
        "  for x2 in sentence:\n",
        "    _tag_word=x+\"-\"+x2\n",
        "    tag_word[_tag_word]=random.randint(4000,9000)\n",
        "    print(f\"{_tag_word}: {tag_word[_tag_word]}\")\n"
      ],
      "metadata": {
        "colab": {
          "base_uri": "https://localhost:8080/"
        },
        "id": "DjM_pbOr2R0I",
        "outputId": "5992fbe8-10db-4c4d-9a7f-81b677100df3"
      },
      "execution_count": null,
      "outputs": [
        {
          "output_type": "stream",
          "name": "stdout",
          "text": [
            "VB-race: 8277\n",
            "VB-will: 8119\n",
            "VB-begin: 6786\n",
            "MD-race: 7177\n",
            "MD-will: 8254\n",
            "MD-begin: 8480\n",
            "NN-race: 4665\n",
            "NN-will: 6944\n",
            "NN-begin: 7361\n"
          ]
        }
      ]
    },
    {
      "cell_type": "markdown",
      "source": [
        "$$P(word[i]|tag[i]) = \\frac{\\text{count}(word[i], tag[i])}{\\text{count}(tag[i])}$$\n",
        "\n",
        "where:\n",
        "- $$\\text{count}(word[i], tag[i]) \\text { is the number of times word[i] appears with tag[i]}$$\n",
        "- $$\\text{count}(tag[i]) \\text{is the total count of tag[i]}$$\n",
        "\n",
        "![msedge_2Ig2k9mrzM.png](data:image/png;base64,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)"
      ],
      "metadata": {
        "id": "3pztBoXoI0vA"
      }
    },
    {
      "cell_type": "code",
      "source": [
        "emission_prob={}\n",
        "for x in tags:\n",
        "  for x2 in sentence:\n",
        "    _tag_word=x+\"-\"+x2\n",
        "    p_tag_word2=x2+\"|\"+x\n",
        "    emission_prob[p_tag_word2]=tag_word[_tag_word]/float(tag[x])\n",
        "    print(f\"p({p_tag_word2}) :{emission_prob[p_tag_word2]}\")"
      ],
      "metadata": {
        "colab": {
          "base_uri": "https://localhost:8080/"
        },
        "id": "WzT0KmiI4_3E",
        "outputId": "5d2c6d35-9d1e-40c8-d5e2-cf905a731084"
      },
      "execution_count": null,
      "outputs": [
        {
          "output_type": "stream",
          "name": "stdout",
          "text": [
            "p(race|VB) :0.5949112340976066\n",
            "p(will|VB) :0.5835549486092144\n",
            "p(begin|VB) :0.4877452742039819\n",
            "p(race|MD) :0.3748172132859829\n",
            "p(will|MD) :0.43106329642782537\n",
            "p(begin|MD) :0.4428660956757886\n",
            "p(race|NN) :0.3050614700496992\n",
            "p(will|NN) :0.45409364373528643\n",
            "p(begin|NN) :0.481362804080565\n"
          ]
        }
      ]
    },
    {
      "cell_type": "code",
      "source": [
        "from itertools import permutations\n",
        "for x in permutations(tag):\n",
        "  print(x)"
      ],
      "metadata": {
        "id": "_g4JEfAlFxw4",
        "outputId": "c9f9a9c5-2a79-4e8a-bbf8-eefe8c8f26cf",
        "colab": {
          "base_uri": "https://localhost:8080/"
        }
      },
      "execution_count": null,
      "outputs": [
        {
          "output_type": "stream",
          "name": "stdout",
          "text": [
            "('VB', 'MD', 'NN')\n",
            "('VB', 'NN', 'MD')\n",
            "('MD', 'VB', 'NN')\n",
            "('MD', 'NN', 'VB')\n",
            "('NN', 'VB', 'MD')\n",
            "('NN', 'MD', 'VB')\n"
          ]
        }
      ]
    },
    {
      "cell_type": "markdown",
      "source": [
        "For sentence \"race will begin\", we calculate:\n",
        "\n",
        "$$\\text{Score}(t_1,t_2,t_3) = P(t_1) \\times P(\\text{race}|t_1) \\times P(t_2|t_1) \\times P(\\text{will}|t_2) \\times P(t_3|t_2) \\times P(\\text{begin}|t_3)$$\n",
        "\n",
        "where:\n",
        "- $$t_1, t_2, t_3 \\text{ are possible tags for each word}$$\n",
        "- $$P(t_1) \\text{ is initial probability}$$\n",
        "- $$P(\\text{word}|t_i) \\text{ is emission probability}$$\n",
        "- $$P(t_j|t_i) \\text{ is transition probability}$$\n",
        "\n",
        "The tag sequence with highest probability score is the predicted sequence."
      ],
      "metadata": {
        "id": "GgPOBYeF8eOt"
      }
    },
    {
      "cell_type": "markdown",
      "source": [
        "For part-of-speech tagging, the goal of HMM decoding is to choose the tag sequence t1 ...tn that is most probable given the observation sequence of n words w1 ...wn:\n",
        "\n",
        "For Hidden Markov Model (HMM) decoding in POS tagging, we find:\n",
        "\n",
        "$$\\hat{t}_1^n = \\underset{t_1...t_n}{\\operatorname{argmax}} P(t_1...t_n|w_1...w_n)$$\n",
        "\n",
        "By applying Bayes' rule and dropping the denominator (since it's constant for all tag sequences):\n",
        "\n",
        "$$\\hat{t}_1^n = \\underset{t_1...t_n}{\\operatorname{argmax}} P(w_1...w_n|t_1...t_n)P(t_1...t_n)$$\n",
        "\n",
        "Where:\n",
        "- $\\hat{t}_1^n$ is the most probable tag sequence\n",
        "- $w_1...w_n$ is the observed word sequence\n",
        "- $P(w_1...w_n|t_1...t_n)$ is the emission probability\n",
        "- $P(t_1...t_n)$ is the transition probability"
      ],
      "metadata": {
        "id": "QTWCHh08EkNa"
      }
    },
    {
      "cell_type": "markdown",
      "source": [
        "![msedge_nVLBft1Mbv.png](data:image/png;base64,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)"
      ],
      "metadata": {
        "id": "Rzf1du5mFfAG"
      }
    },
    {
      "cell_type": "markdown",
      "source": [
        "The probability of a tag sequence can be expressed as:\n",
        "\n",
        "$$P(\\text{tag sequence}) = \\prod_{i=1}^n P(t_i|w_i)P(t_i|t_{i-1})$$\n",
        "\n",
        "Where:\n",
        "- $t_i$ represents tag at position $i$\n",
        "- $w_i$ represents word at position $i$\n",
        "- $\\pi_{t_1}$ is the initial probability of first tag\n",
        "- $P(t_i|w_i)$ is the emission probability\n",
        "- $P(t_i|t_{i-1})$ is the transition probability between consecutive tags"
      ],
      "metadata": {
        "id": "jHNVcRLvNMSJ"
      }
    },
    {
      "cell_type": "markdown",
      "source": [
        "\n",
        "# Hidden Markov Model (HMM) for POS Tagging: Equation Derivation\n",
        "\n",
        "## Step 1: Understanding the Equations\n",
        "\n",
        "### Equation (1):\n",
        "$$\\hat{t}_1^n = \\underset{t_1...t_n}{\\operatorname{argmax}} P(w_1...w_n|t_1...t_n)P(t_1...t_n)$$\n",
        "\n",
        "This represents the goal of POS tagging: finding the most likely sequence of tags $\\hat{t}_1^n$ for a given sequence of words $w_1, \\ldots, w_n$.\n",
        "\n",
        "* $P(w_1...w_n|t_1...t_n)$: Likelihood of the word sequence given the tag sequence\n",
        "* $P(t_1...t_n)$: Prior probability of the tag sequence\n",
        "\n",
        "### Equation (2):\n",
        "$$P(\\text{tag sequence}) = \\prod_{i=1}^n P(w_i|t_i)P(t_i|t_{i-1})$$\n",
        "\n",
        "This reformulates the joint probability $P(w_1...w_n, t_1...t_n)$ in terms of:\n",
        "* $P(w_i|t_i)$: Emission probability (word $w_i$ given tag $t_i$)\n",
        "* $P(t_i|t_{i-1})$: Transition probability (tag $t_i$ given previous tag $t_{i-1}$)\n",
        "\n",
        "## Step 2: Breaking Down Equation (1)\n",
        "\n",
        "Expand the joint probability:\n",
        "$$P(w_1...w_n|t_1...t_n)P(t_1...t_n) = P(w_1...w_n, t_1...t_n)$$\n",
        "\n",
        "In an HMM, this joint probability decomposes into:\n",
        "$$P(w_1...w_n, t_1...t_n) = P(t_1...t_n) \\cdot P(w_1...w_n|t_1...t_n)$$\n",
        "\n",
        "## Step 3: HMM Assumptions\n",
        "\n",
        "1. **Markov assumption (transition probabilities):**\n",
        "   $$P(t_1...t_n) = \\prod_{i=1}^n P(t_i|t_{i-1})$$\n",
        "\n",
        "2. **Emission independence:**\n",
        "   $$P(w_1...w_n|t_1...t_n) = \\prod_{i=1}^n P(w_i|t_i)$$\n",
        "\n",
        "## Step 4: Joint Probability Rewrite\n",
        "\n",
        "Using HMM assumptions:\n",
        "$$P(w_1...w_n, t_1...t_n) = \\prod_{i=1}^n P(w_i|t_i) \\cdot P(t_i|t_{i-1})$$\n",
        "\n",
        "## Step 5: Final Form\n",
        "\n",
        "The probability of the tag sequence becomes:\n",
        "$$P(\\text{tag sequence}) = \\prod_{i=1}^n P(w_i|t_i)P(t_i|t_{i-1})$$\n",
        "\n",
        "This matches our decomposition of the joint probability $P(w_1...w_n, t_1...t_n)$ under the HMM framework."
      ],
      "metadata": {
        "id": "iAHCRdBxKwut"
      }
    },
    {
      "cell_type": "code",
      "source": [
        "def decoding(tag_seq):\n",
        "  #Starting probability of tag_seq 0 = pi[tag_seq[0]]\n",
        "  #Emission probability=emission_prob[sentence[0]+\"|\"+tag_seq[0]] ///Ex: P(Race|VB)\n",
        "  #Transition probability=transition_prob[tag_seq[1]+\"|\"+tag_seq[0]] ///Ex: P(VB|MD)\n",
        "  prob=emission_prob[sentence[0]+\"|\"+tag_seq[0]]*pi[tag_seq[0]] * emission_prob[sentence[1]+\"|\"+tag_seq[1]]*transition_prob[tag_seq[1]+\"|\"+tag_seq[0]] * emission_prob[sentence[2]+\"|\"+tag_seq[2]]*transition_prob[tag_seq[2]+\"|\"+tag_seq[1]]\n",
        "  return prob"
      ],
      "metadata": {
        "id": "0bo5pXOBAfI4"
      },
      "execution_count": null,
      "outputs": []
    },
    {
      "cell_type": "code",
      "source": [
        "from itertools import permutations\n",
        "max_prob=0.0\n",
        "for p in permutations(tag):\n",
        "  ans=decoding(list(p))\n",
        "  print(f\"{p}: {ans}\")\n",
        "  if ans> max_prob:\n",
        "    max_prob=max(ans,max_prob)\n",
        "    tag_seq=p\n",
        "print(f\"Final tag sequence: {tag_seq}:{max_prob}\")"
      ],
      "metadata": {
        "id": "9LKx_x8u89_L",
        "colab": {
          "base_uri": "https://localhost:8080/"
        },
        "outputId": "5c756539-87f7-4181-e029-35d7fdd487ab"
      },
      "execution_count": null,
      "outputs": [
        {
          "output_type": "stream",
          "name": "stdout",
          "text": [
            "('VB', 'MD', 'NN'): 0.022620738133530768\n",
            "('VB', 'NN', 'MD'): 0.014395512665967376\n",
            "('MD', 'VB', 'NN'): 0.013221340119161127\n",
            "('MD', 'NN', 'VB'): 0.012655040261265845\n",
            "('NN', 'VB', 'MD'): 0.004825935520954649\n",
            "('NN', 'MD', 'VB'): 0.004952764884434805\n",
            "Final tag sequence: ('VB', 'MD', 'NN'):0.022620738133530768\n"
          ]
        }
      ]
    },
    {
      "cell_type": "markdown",
      "source": [
        "**Reference:** Speech and Language Processing: An Introduction to Natural Language Processing, Computational Linguistics and Speech Recognition-Dan Jurafsky"
      ],
      "metadata": {
        "id": "-dm6XSKxMYNT"
      }
    }
  ]
}