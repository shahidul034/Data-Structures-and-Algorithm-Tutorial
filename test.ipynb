{
 "cells": [
  {
   "cell_type": "code",
   "execution_count": 9,
   "metadata": {},
   "outputs": [
    {
     "data": {
      "text/plain": [
       "[{'roll': 2231026, 'marks': 5},\n",
       " {'roll': 2231018, 'marks': 5},\n",
       " {'roll': 2231020, 'marks': 7},\n",
       " {'roll': 2231005, 'marks': 5},\n",
       " {'roll': 2231010, 'marks': 5},\n",
       " {'roll': 2231017, 'marks': 5},\n",
       " {'roll': 2231029, 'marks': 5},\n",
       " {'roll': 2231009, 'marks': 5},\n",
       " {'roll': 2231002, 'marks': 5},\n",
       " {'roll': 2231027, 'marks': 6},\n",
       " {'roll': 2231003, 'marks': 4},\n",
       " {'roll': 2231030, 'marks': 5},\n",
       " {'roll': 2231011, 'marks': 5},\n",
       " {'roll': 2231013, 'marks': 3},\n",
       " {'roll': 2231006, 'marks': 5},\n",
       " {'roll': 2231021, 'marks': 5},\n",
       " {'roll': 2231008, 'marks': 5},\n",
       " {'roll': 2231024, 'marks': 5},\n",
       " {'roll': 2231023, 'marks': 5},\n",
       " {'roll': 2231008, 'marks': 1},\n",
       " {'roll': 2231019, 'marks': 5},\n",
       " {'roll': 2231001, 'marks': 5},\n",
       " {'roll': 2231012, 'marks': 5},\n",
       " {'roll': 2231025, 'marks': 5},\n",
       " {'roll': 2231028, 'marks': 5},\n",
       " {'roll': 2231016, 'marks': 5}]"
      ]
     },
     "execution_count": 9,
     "metadata": {},
     "output_type": "execute_result"
    }
   ],
   "source": [
    "f=[(x.split(\" \")) for x in open(\"mydat\",\"r\").read().split(\"\\n\")]\n",
    "dat=[]\n",
    "for x in f:\n",
    "    dat.append({\n",
    "        \"roll\":int(x[0])+2231000,\n",
    "        \"marks\": int(x[1])\n",
    "    })\n",
    "dat"
   ]
  },
  {
   "cell_type": "code",
   "execution_count": 8,
   "metadata": {},
   "outputs": [
    {
     "data": {
      "text/plain": [
       "[{'roll': 2231001, 'marks': 5},\n",
       " {'roll': 2231002, 'marks': 5},\n",
       " {'roll': 2231003, 'marks': 4},\n",
       " {'roll': 2231005, 'marks': 5},\n",
       " {'roll': 2231006, 'marks': 5},\n",
       " {'roll': 2231008, 'marks': 5},\n",
       " {'roll': 2231008, 'marks': 1},\n",
       " {'roll': 2231009, 'marks': 5},\n",
       " {'roll': 2231010, 'marks': 5},\n",
       " {'roll': 2231011, 'marks': 5},\n",
       " {'roll': 2231012, 'marks': 5},\n",
       " {'roll': 2231013, 'marks': 3},\n",
       " {'roll': 2231016, 'marks': 5},\n",
       " {'roll': 2231017, 'marks': 5},\n",
       " {'roll': 2231018, 'marks': 5},\n",
       " {'roll': 2231019, 'marks': 5},\n",
       " {'roll': 2231020, 'marks': 7},\n",
       " {'roll': 2231021, 'marks': 5},\n",
       " {'roll': 2231023, 'marks': 5},\n",
       " {'roll': 2231024, 'marks': 5},\n",
       " {'roll': 2231025, 'marks': 5},\n",
       " {'roll': 2231026, 'marks': 5},\n",
       " {'roll': 2231027, 'marks': 6},\n",
       " {'roll': 2231028, 'marks': 5},\n",
       " {'roll': 2231029, 'marks': 5},\n",
       " {'roll': 2231030, 'marks': 5}]"
      ]
     },
     "execution_count": 8,
     "metadata": {},
     "output_type": "execute_result"
    }
   ],
   "source": [
    "dat_sorted=sorted(dat,key=lambda x: x[\"roll\"])\n",
    "dat_sorted"
   ]
  },
  {
   "cell_type": "code",
   "execution_count": 10,
   "metadata": {},
   "outputs": [],
   "source": [
    "import pandas as pd\n",
    "df=pd.DataFrame(dat_sorted).to_excel(\"res.xlsx\",index=False)"
   ]
  },
  {
   "cell_type": "code",
   "execution_count": null,
   "metadata": {},
   "outputs": [],
   "source": []
  }
 ],
 "metadata": {
  "kernelspec": {
   "display_name": "ai_clssifier",
   "language": "python",
   "name": "python3"
  },
  "language_info": {
   "codemirror_mode": {
    "name": "ipython",
    "version": 3
   },
   "file_extension": ".py",
   "mimetype": "text/x-python",
   "name": "python",
   "nbconvert_exporter": "python",
   "pygments_lexer": "ipython3",
   "version": "3.10.13"
  }
 },
 "nbformat": 4,
 "nbformat_minor": 2
}
